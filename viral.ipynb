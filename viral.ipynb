{
 "cells": [
  {
   "cell_type": "code",
   "execution_count": 2,
   "id": "2ba9b74d",
   "metadata": {},
   "outputs": [],
   "source": [
    "import pandas as pd"
   ]
  },
  {
   "cell_type": "code",
   "execution_count": 3,
   "id": "2fe977dc",
   "metadata": {},
   "outputs": [
    {
     "data": {
      "text/html": [
       "<div>\n",
       "<style scoped>\n",
       "    .dataframe tbody tr th:only-of-type {\n",
       "        vertical-align: middle;\n",
       "    }\n",
       "\n",
       "    .dataframe tbody tr th {\n",
       "        vertical-align: top;\n",
       "    }\n",
       "\n",
       "    .dataframe thead th {\n",
       "        text-align: right;\n",
       "    }\n",
       "</style>\n",
       "<table border=\"1\" class=\"dataframe\">\n",
       "  <thead>\n",
       "    <tr style=\"text-align: right;\">\n",
       "      <th></th>\n",
       "      <th>campaign_id</th>\n",
       "      <th>ad_date</th>\n",
       "      <th>platform</th>\n",
       "      <th>ad_spend</th>\n",
       "      <th>clicks</th>\n",
       "      <th>impressions</th>\n",
       "    </tr>\n",
       "  </thead>\n",
       "  <tbody>\n",
       "    <tr>\n",
       "      <th>0</th>\n",
       "      <td>1000</td>\n",
       "      <td>2024-01-01</td>\n",
       "      <td>insta</td>\n",
       "      <td>21854.31</td>\n",
       "      <td>1360</td>\n",
       "      <td>25840</td>\n",
       "    </tr>\n",
       "    <tr>\n",
       "      <th>1</th>\n",
       "      <td>1001</td>\n",
       "      <td>2024-01-08</td>\n",
       "      <td>insta</td>\n",
       "      <td>37939.73</td>\n",
       "      <td>4272</td>\n",
       "      <td>38448</td>\n",
       "    </tr>\n",
       "    <tr>\n",
       "      <th>2</th>\n",
       "      <td>1002</td>\n",
       "      <td>2024-01-15</td>\n",
       "      <td>insta</td>\n",
       "      <td>12020.84</td>\n",
       "      <td>966</td>\n",
       "      <td>10626</td>\n",
       "    </tr>\n",
       "    <tr>\n",
       "      <th>3</th>\n",
       "      <td>1003</td>\n",
       "      <td>2024-01-22</td>\n",
       "      <td>insta</td>\n",
       "      <td>7613.76</td>\n",
       "      <td>3944</td>\n",
       "      <td>31552</td>\n",
       "    </tr>\n",
       "    <tr>\n",
       "      <th>4</th>\n",
       "      <td>1004</td>\n",
       "      <td>2024-01-29</td>\n",
       "      <td>insta</td>\n",
       "      <td>11429.01</td>\n",
       "      <td>630</td>\n",
       "      <td>6300</td>\n",
       "    </tr>\n",
       "  </tbody>\n",
       "</table>\n",
       "</div>"
      ],
      "text/plain": [
       "   campaign_id     ad_date platform  ad_spend  clicks  impressions\n",
       "0         1000  2024-01-01    insta  21854.31    1360        25840\n",
       "1         1001  2024-01-08    insta  37939.73    4272        38448\n",
       "2         1002  2024-01-15    insta  12020.84     966        10626\n",
       "3         1003  2024-01-22    insta   7613.76    3944        31552\n",
       "4         1004  2024-01-29    insta  11429.01     630         6300"
      ]
     },
     "execution_count": 3,
     "metadata": {},
     "output_type": "execute_result"
    }
   ],
   "source": [
    "df = pd.read_csv('campaign_performance.csv')\n",
    "df.head()\n"
   ]
  },
  {
   "cell_type": "code",
   "execution_count": 5,
   "id": "5710d0ff",
   "metadata": {},
   "outputs": [
    {
     "data": {
      "text/plain": [
       "platform\n",
       "insta            6\n",
       "LinkedIn Ads     6\n",
       "YT               4\n",
       "LI               4\n",
       "YouTube          3\n",
       "YouTube Ads      3\n",
       "Instagram        2\n",
       "Instagram Ads    2\n",
       "Name: count, dtype: int64"
      ]
     },
     "execution_count": 5,
     "metadata": {},
     "output_type": "execute_result"
    }
   ],
   "source": [
    "df['platform'].value_counts()"
   ]
  },
  {
   "cell_type": "code",
   "execution_count": 9,
   "id": "4a392fec",
   "metadata": {},
   "outputs": [],
   "source": [
    "df['platform'] = df['platform'].replace({\n",
    "    'insta': 'Instagram',\n",
    "    'LinkedIn Ads': 'LinkedIn',\n",
    "    'YT': 'YouTube',\n",
    "    'LI': 'LinkedIn',\n",
    "    'YouTube Ads': 'YouTube',\n",
    "    'Instagram Ads': 'Instagram'\n",
    "})\n"
   ]
  },
  {
   "cell_type": "code",
   "execution_count": 10,
   "id": "fbe3a8d2",
   "metadata": {},
   "outputs": [
    {
     "data": {
      "text/plain": [
       "platform\n",
       "Instagram    10\n",
       "YouTube      10\n",
       "LinkedIn     10\n",
       "Name: count, dtype: int64"
      ]
     },
     "execution_count": 10,
     "metadata": {},
     "output_type": "execute_result"
    }
   ],
   "source": [
    "df['platform'].value_counts()"
   ]
  },
  {
   "cell_type": "code",
   "execution_count": 11,
   "id": "58dab968",
   "metadata": {},
   "outputs": [],
   "source": [
    "df.to_csv(\"campaigns.csv\", index=False)\n"
   ]
  },
  {
   "cell_type": "code",
   "execution_count": 13,
   "id": "906c991f",
   "metadata": {},
   "outputs": [
    {
     "data": {
      "text/html": [
       "<div>\n",
       "<style scoped>\n",
       "    .dataframe tbody tr th:only-of-type {\n",
       "        vertical-align: middle;\n",
       "    }\n",
       "\n",
       "    .dataframe tbody tr th {\n",
       "        vertical-align: top;\n",
       "    }\n",
       "\n",
       "    .dataframe thead th {\n",
       "        text-align: right;\n",
       "    }\n",
       "</style>\n",
       "<table border=\"1\" class=\"dataframe\">\n",
       "  <thead>\n",
       "    <tr style=\"text-align: right;\">\n",
       "      <th></th>\n",
       "      <th>student_id</th>\n",
       "      <th>signup_date</th>\n",
       "      <th>course_name</th>\n",
       "      <th>completion_percentage</th>\n",
       "      <th>source_campaign_id</th>\n",
       "    </tr>\n",
       "  </thead>\n",
       "  <tbody>\n",
       "    <tr>\n",
       "      <th>0</th>\n",
       "      <td>2000</td>\n",
       "      <td>2024-01-01</td>\n",
       "      <td>Python for Data Science</td>\n",
       "      <td>27.88</td>\n",
       "      <td>1023</td>\n",
       "    </tr>\n",
       "    <tr>\n",
       "      <th>1</th>\n",
       "      <td>2001</td>\n",
       "      <td>2024-03-03</td>\n",
       "      <td>Python for Data Science</td>\n",
       "      <td>83.39</td>\n",
       "      <td>1016</td>\n",
       "    </tr>\n",
       "    <tr>\n",
       "      <th>2</th>\n",
       "      <td>2002</td>\n",
       "      <td>2024-01-08</td>\n",
       "      <td>Python for Data Science</td>\n",
       "      <td>75.61</td>\n",
       "      <td>1000</td>\n",
       "    </tr>\n",
       "    <tr>\n",
       "      <th>3</th>\n",
       "      <td>2003</td>\n",
       "      <td>2024-01-05</td>\n",
       "      <td>Python for Data Science</td>\n",
       "      <td>93.37</td>\n",
       "      <td>1025</td>\n",
       "    </tr>\n",
       "    <tr>\n",
       "      <th>4</th>\n",
       "      <td>2004</td>\n",
       "      <td>2024-02-10</td>\n",
       "      <td>Data Analytics 101</td>\n",
       "      <td>92.35</td>\n",
       "      <td>1008</td>\n",
       "    </tr>\n",
       "  </tbody>\n",
       "</table>\n",
       "</div>"
      ],
      "text/plain": [
       "   student_id signup_date              course_name  completion_percentage  \\\n",
       "0        2000  2024-01-01  Python for Data Science                  27.88   \n",
       "1        2001  2024-03-03  Python for Data Science                  83.39   \n",
       "2        2002  2024-01-08  Python for Data Science                  75.61   \n",
       "3        2003  2024-01-05  Python for Data Science                  93.37   \n",
       "4        2004  2024-02-10       Data Analytics 101                  92.35   \n",
       "\n",
       "   source_campaign_id  \n",
       "0                1023  \n",
       "1                1016  \n",
       "2                1000  \n",
       "3                1025  \n",
       "4                1008  "
      ]
     },
     "execution_count": 13,
     "metadata": {},
     "output_type": "execute_result"
    }
   ],
   "source": [
    "df = pd.read_csv('student_enrollments.csv')\n",
    "df.head()"
   ]
  },
  {
   "cell_type": "code",
   "execution_count": 14,
   "id": "501c18bd",
   "metadata": {},
   "outputs": [
    {
     "data": {
      "text/plain": [
       "course_name\n",
       "Python for Data Science    70\n",
       "Machine Learning Basics    70\n",
       "Data Analytics 101         60\n",
       "Name: count, dtype: int64"
      ]
     },
     "execution_count": 14,
     "metadata": {},
     "output_type": "execute_result"
    }
   ],
   "source": [
    "df['course_name'].value_counts()"
   ]
  }
 ],
 "metadata": {
  "kernelspec": {
   "display_name": "Python 3",
   "language": "python",
   "name": "python3"
  },
  "language_info": {
   "codemirror_mode": {
    "name": "ipython",
    "version": 3
   },
   "file_extension": ".py",
   "mimetype": "text/x-python",
   "name": "python",
   "nbconvert_exporter": "python",
   "pygments_lexer": "ipython3",
   "version": "3.13.7"
  }
 },
 "nbformat": 4,
 "nbformat_minor": 5
}
